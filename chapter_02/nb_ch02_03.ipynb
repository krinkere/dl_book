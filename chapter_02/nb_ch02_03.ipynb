{
 "cells": [
  {
   "cell_type": "markdown",
   "metadata": {
    "colab_type": "text",
    "id": "4K8Ug6ICkRtQ"
   },
   "source": [
    "# A simple CNN for the edge lover task\n",
    "\n",
    "**Goal:** In this notebook you train a very simple CNN with only 1 kernel to discriminate images containing vertical from those containing horizontal stripes. To check what pattern is recognized by the learned kernel you will visualize the weights of the kernel as an image. You will see that the CNN leans a useful kernel (either a vertical or horiziontal bar).You can experiment with the code to check the influence of the kernel size, the activation function and the pooling method on the result.  \n",
    "\n",
    "**Usage:** The idea of the notebook is that you try to understand the provided code by running it, checking the output and playing with it by slightly changing the code and rerunning it.  \n",
    "\n",
    "**Dataset:** You work with an artficially generatet dataset of greyscale images (50x50 pixel) with 10 vertical or horizontal bars. We want to classify them into whether or not an art lover will like them(0 or 1).  \n",
    "\n",
    "**Content:**\n",
    "* definig and generating the dataset X_train and X_val\n",
    "* visualize samples of the generated images\n",
    "* use keras to train a CNN with only one kernel (5x5 pixel)\n",
    "* visualize the weights of the leaned kernel and interpret if it is useful\n",
    "* repeat the last two steps to check if the learned kernel is always the same\n",
    "\n",
    "\n",
    "| [open in colab](https://colab.research.google.com/github/tensorchiefs/dl_book/blob/master/chapter_02/nb_ch02_03.ipynb)\n"
   ]
  },
  {
   "cell_type": "markdown",
   "metadata": {
    "colab_type": "text",
    "id": "eiB8bJNYn8oP"
   },
   "source": [
    "#### Imports and image generator functions\n",
    "\n",
    "In the next two cells, we load all the required libraries and functions. We define two functions to generate images with vertical and horizontal images. "
   ]
  },
  {
   "cell_type": "code",
   "execution_count": 10,
   "metadata": {
    "colab": {
     "base_uri": "https://localhost:8080/",
     "height": 35
    },
    "colab_type": "code",
    "id": "2PDLAWRQ7iUB",
    "outputId": "c279a2da-5329-4f4b-f7a6-8c0cca52ab28"
   },
   "outputs": [],
   "source": [
    "# load required libraries:\n",
    "import numpy as np\n",
    "import matplotlib.pyplot as plt\n",
    "%matplotlib inline\n",
    "plt.style.use('default')\n",
    "\n",
    "import keras \n",
    "from keras.models import Sequential\n",
    "from keras.layers import Dense, Convolution2D, MaxPooling2D, Flatten , Activation\n",
    "from keras.utils import to_categorical "
   ]
  },
  {
   "cell_type": "markdown",
   "metadata": {
    "colab_type": "text",
    "id": "Oq0FNqcBpj23"
   },
   "source": [
    "### Defining functions to generate images \n",
    "\n",
    "Here we define the function to genere images with vertical and horizontal bars, the arguments of the functions are the size of the image and the nr of bars you want to have. The bars are at random positions in the image with a random length. The image is black and white, meaning we have only two values for the pixels, 0 for black and 255 for white."
   ]
  },
  {
   "cell_type": "code",
   "execution_count": 11,
   "metadata": {
    "colab": {},
    "colab_type": "code",
    "id": "nqVBlR8yAO9c"
   },
   "outputs": [],
   "source": [
    "#define function to generate image with shape (size, size, 1) with stripes\n",
    "def generate_image_with_bars(size, bar_nr, vertical = True):\n",
    "  img=np.zeros((size,size,1),dtype=\"uint8\")\n",
    "  for i in range(0,bar_nr):\n",
    "    x,y = np.random.randint(0,size,2)\n",
    "    l  = np.int(np.random.randint(y,size,1))\n",
    "    if (vertical):\n",
    "      img[y:l,x,0]=255\n",
    "    else:\n",
    "      img[x,y:l,0]=255\n",
    "  return img  "
   ]
  },
  {
   "cell_type": "markdown",
   "metadata": {
    "colab_type": "text",
    "id": "bUmdGzQLdqzB"
   },
   "source": [
    "Let's have a look how the generated images. We choose a size of 50x50 pixels and set the nr of bars in the image to 10. "
   ]
  },
  {
   "cell_type": "code",
   "execution_count": 12,
   "metadata": {
    "colab": {
     "base_uri": "https://localhost:8080/",
     "height": 364
    },
    "colab_type": "code",
    "id": "EccLz0FlXGuU",
    "outputId": "afebe4de-c0ae-444b-cdc9-31364d656b9d"
   },
   "outputs": [
    {
     "data": {
      "text/plain": [
       "<matplotlib.image.AxesImage at 0x7f00f39111d0>"
      ]
     },
     "execution_count": 12,
     "metadata": {},
     "output_type": "execute_result"
    },
    {
     "data": {
      "image/png": "[encoded data removed]",
      "text/plain": [
       "<Figure size 800x800 with 2 Axes>"
      ]
     },
     "metadata": {},
     "output_type": "display_data"
    }
   ],
   "source": [
    "# have a look on two generated images\n",
    "plt.figure(figsize=(8,8))\n",
    "plt.subplot(1,2,1)\n",
    "img=generate_image_with_bars(50,10, vertical=True)\n",
    "plt.imshow(img[:,:,0],cmap='gray')\n",
    "plt.subplot(1,2,2)\n",
    "img=generate_image_with_bars(50,10, vertical=False)\n",
    "plt.imshow(img[:,:,0],cmap='gray')"
   ]
  },
  {
   "cell_type": "markdown",
   "metadata": {
    "colab_type": "text",
    "id": "Y8gSwmyaevTk"
   },
   "source": [
    "### Make a train and validation dataset of images with vertical and horizontal images\n",
    "Now, let's make a train dataset *X_train* with 1000 images (500 images with vertical and 500 images with horizontal bars). We normalize the images values to be between 0 and 1 by dividing all values with 255. We create a secont dataste *X_val* with exactly the same properties to validate the training of the CNN."
   ]
  },
  {
   "cell_type": "markdown",
   "metadata": {
    "colab": {
     "base_uri": "https://localhost:8080/",
     "height": 52
    },
    "colab_type": "code",
    "id": "63omuptEILKu",
    "outputId": "0033ea72-d4f1-468b-8bac-d6eabc4bd633"
   },
   "source": [
    "<div class=\"alert alert-warning\">\n",
    "Misspelling in line 2 and 3 (divisible not diviable)\n",
    "</div>"
   ]
  },
  {
   "cell_type": "markdown",
   "metadata": {},
   "source": [
    "<div class=\"alert alert-warning\">\n",
    "Remove a comment about python 3 sucking :)\n",
    "</div>"
   ]
  },
  {
   "cell_type": "code",
   "execution_count": 13,
   "metadata": {
    "colab": {
     "base_uri": "https://localhost:8080/",
     "height": 52
    },
    "colab_type": "code",
    "id": "63omuptEILKu",
    "outputId": "0033ea72-d4f1-468b-8bac-d6eabc4bd633"
   },
   "outputs": [
    {
     "name": "stdout",
     "output_type": "stream",
     "text": [
      "(1000, 50, 50, 1)\n",
      "(1000, 50, 50, 1)\n"
     ]
    }
   ],
   "source": [
    "pixel=50  # define height and width of images\n",
    "num_images_train = 1000 #Number of training examples (diviable by 2) \n",
    "num_images_val = 1000 #Number of training examples (diviable by 2) \n",
    "\n",
    "# generate training data with vertical edges\n",
    "X_train =np.zeros((num_images_train,pixel,pixel,1))\n",
    "for i in range(0, num_images_train//2): #// python 3 sucks!\n",
    "   X_train[i]=generate_image_with_bars(pixel,10)\n",
    "# ... with horizontal\n",
    "for i in range(num_images_train//2, num_images_train):\n",
    "   X_train[i]=generate_image_with_bars(pixel,10, vertical=False)\n",
    "\n",
    "# generate validation data \n",
    "X_val =np.zeros((num_images_train,pixel,pixel,1))\n",
    "for i in range(0, num_images_train//2): \n",
    "   X_val[i]=generate_image_with_bars(pixel,10)\n",
    "# ... with horizontal\n",
    "for i in range(num_images_train//2, num_images_train):\n",
    "   X_val[i]=generate_image_with_bars(pixel,10, vertical=False)\n",
    "\n",
    "\n",
    "# normalize the data to be between 0 and 1\n",
    "X_train=X_train/255\n",
    "X_val=X_val/255\n",
    "\n",
    "print(X_train.shape)\n",
    "print(X_val.shape)"
   ]
  },
  {
   "cell_type": "markdown",
   "metadata": {
    "colab_type": "text",
    "id": "ajNnUoYyi7IQ"
   },
   "source": [
    "Here we make the labels for the art lover, 0 means he likes the image and 1 means that he doesn't like it. We convert the labels into the one hot encoding becuase we want to use two outputs in our network."
   ]
  },
  {
   "cell_type": "code",
   "execution_count": 14,
   "metadata": {
    "colab": {},
    "colab_type": "code",
    "id": "41-L5hM8S_ZP"
   },
   "outputs": [],
   "source": [
    "# create class labels\n",
    "y = np.array([[0],[1]])\n",
    "Y_train = np.repeat(y, num_images_train //2)\n",
    "Y_val = np.repeat(y, num_images_train //2)\n",
    "\n",
    "# one-hot-encoding\n",
    "Y_train=to_categorical(Y_train,2)\n",
    "Y_val=to_categorical(Y_val,2)"
   ]
  },
  {
   "cell_type": "markdown",
   "metadata": {
    "colab_type": "text",
    "id": "uZpr0h-VvatF"
   },
   "source": [
    "## Defining the CNN to predict which images the art lover likes\n",
    "\n",
    "Here we define the kind of special architecture of the CNN: \n",
    "\n",
    ">we use only one kernel with a size of 5x5 pixels  \n",
    ">then we apply a linar activation function  \n",
    ">the maxpooling layer takes the maximum of the whole activation map to predict the probability (output layer with softmax) if the art lover will like the image\n",
    "\n",
    "as loss we use the categorical_crossentropy and we train for 20 epochs with a batchsize of 64 images per update.\n"
   ]
  },
  {
   "cell_type": "code",
   "execution_count": 15,
   "metadata": {
    "colab": {},
    "colab_type": "code",
    "id": "1Dfg1h2rUifd"
   },
   "outputs": [
    {
     "name": "stderr",
     "output_type": "stream",
     "text": [
      "WARNING: Logging before flag parsing goes to stderr.\n",
      "W0814 19:45:27.346432 139644154087232 deprecation_wrapper.py:119] From /root/miniconda3/lib/python3.7/site-packages/keras/backend/tensorflow_backend.py:74: The name tf.get_default_graph is deprecated. Please use tf.compat.v1.get_default_graph instead.\n",
      "\n",
      "W0814 19:45:27.370293 139644154087232 deprecation_wrapper.py:119] From /root/miniconda3/lib/python3.7/site-packages/keras/backend/tensorflow_backend.py:517: The name tf.placeholder is deprecated. Please use tf.compat.v1.placeholder instead.\n",
      "\n",
      "W0814 19:45:27.374347 139644154087232 deprecation_wrapper.py:119] From /root/miniconda3/lib/python3.7/site-packages/keras/backend/tensorflow_backend.py:4138: The name tf.random_uniform is deprecated. Please use tf.random.uniform instead.\n",
      "\n",
      "W0814 19:45:27.388370 139644154087232 deprecation_wrapper.py:119] From /root/miniconda3/lib/python3.7/site-packages/keras/backend/tensorflow_backend.py:3976: The name tf.nn.max_pool is deprecated. Please use tf.nn.max_pool2d instead.\n",
      "\n",
      "W0814 19:45:27.404756 139644154087232 deprecation_wrapper.py:119] From /root/miniconda3/lib/python3.7/site-packages/keras/optimizers.py:790: The name tf.train.Optimizer is deprecated. Please use tf.compat.v1.train.Optimizer instead.\n",
      "\n",
      "W0814 19:45:27.420260 139644154087232 deprecation_wrapper.py:119] From /root/miniconda3/lib/python3.7/site-packages/keras/backend/tensorflow_backend.py:3295: The name tf.log is deprecated. Please use tf.math.log instead.\n",
      "\n"
     ]
    }
   ],
   "source": [
    "model = Sequential()\n",
    "\n",
    "model.add(Convolution2D(1,(5,5),padding='same',input_shape=(pixel,pixel,1)))\n",
    "model.add(Activation('linear'))\n",
    "\n",
    "# take the max over all values in the activation map\n",
    "model.add(MaxPooling2D(pool_size=(pixel,pixel)))\n",
    "model.add(Flatten()) \n",
    "model.add(Dense(2))\n",
    "model.add(Activation('softmax'))\n",
    "\n",
    "# compile model and initialize weights\n",
    "model.compile(loss='categorical_crossentropy',\n",
    "              optimizer='adam',\n",
    "              metrics=['accuracy'])\n"
   ]
  },
  {
   "cell_type": "code",
   "execution_count": 16,
   "metadata": {
    "colab": {
     "base_uri": "https://localhost:8080/",
     "height": 345
    },
    "colab_type": "code",
    "id": "r6eqV0TRU0_n",
    "outputId": "e0559dc9-ae2c-4cb7-b88c-fc69c0d769dc"
   },
   "outputs": [
    {
     "name": "stdout",
     "output_type": "stream",
     "text": [
      "_________________________________________________________________\n",
      "Layer (type)                 Output Shape              Param #   \n",
      "=================================================================\n",
      "conv2d_1 (Conv2D)            (None, 50, 50, 1)         26        \n",
      "_________________________________________________________________\n",
      "activation_1 (Activation)    (None, 50, 50, 1)         0         \n",
      "_________________________________________________________________\n",
      "max_pooling2d_1 (MaxPooling2 (None, 1, 1, 1)           0         \n",
      "_________________________________________________________________\n",
      "flatten_1 (Flatten)          (None, 1)                 0         \n",
      "_________________________________________________________________\n",
      "dense_1 (Dense)              (None, 2)                 4         \n",
      "_________________________________________________________________\n",
      "activation_2 (Activation)    (None, 2)                 0         \n",
      "=================================================================\n",
      "Total params: 30\n",
      "Trainable params: 30\n",
      "Non-trainable params: 0\n",
      "_________________________________________________________________\n"
     ]
    }
   ],
   "source": [
    "# let's summarize the CNN architectures along with the number of model weights\n",
    "model.summary()\n"
   ]
  },
  {
   "cell_type": "code",
   "execution_count": 17,
   "metadata": {
    "colab": {
     "base_uri": "https://localhost:8080/",
     "height": 1762
    },
    "colab_type": "code",
    "id": "Sc-BYd8kVCx0",
    "outputId": "32e8f6cd-59cd-448a-da15-9dc549f836aa"
   },
   "outputs": [
    {
     "name": "stderr",
     "output_type": "stream",
     "text": [
      "W0814 19:46:42.548375 139644154087232 deprecation.py:323] From /root/miniconda3/lib/python3.7/site-packages/tensorflow/python/ops/math_grad.py:1250: add_dispatch_support.<locals>.wrapper (from tensorflow.python.ops.array_ops) is deprecated and will be removed in a future version.\n",
      "Instructions for updating:\n",
      "Use tf.where in 2.0, which has the same broadcast rule as np.where\n",
      "W0814 19:46:42.587159 139644154087232 deprecation_wrapper.py:119] From /root/miniconda3/lib/python3.7/site-packages/keras/backend/tensorflow_backend.py:986: The name tf.assign_add is deprecated. Please use tf.compat.v1.assign_add instead.\n",
      "\n"
     ]
    },
    {
     "name": "stdout",
     "output_type": "stream",
     "text": [
      "Train on 1000 samples, validate on 1000 samples\n",
      "Epoch 1/50\n",
      "1000/1000 [==============================] - 0s 465us/step - loss: 1.1141 - acc: 0.5000 - val_loss: 1.0533 - val_acc: 0.5000\n",
      "Epoch 2/50\n",
      "1000/1000 [==============================] - 0s 182us/step - loss: 0.9942 - acc: 0.5000 - val_loss: 0.9407 - val_acc: 0.5000\n",
      "Epoch 3/50\n",
      "1000/1000 [==============================] - 0s 179us/step - loss: 0.8902 - acc: 0.5000 - val_loss: 0.8489 - val_acc: 0.5000\n",
      "Epoch 4/50\n",
      "1000/1000 [==============================] - 0s 183us/step - loss: 0.8069 - acc: 0.5000 - val_loss: 0.7701 - val_acc: 0.5000\n",
      "Epoch 5/50\n",
      "1000/1000 [==============================] - 0s 176us/step - loss: 0.7362 - acc: 0.5000 - val_loss: 0.7045 - val_acc: 0.5000\n",
      "Epoch 6/50\n",
      "1000/1000 [==============================] - 0s 176us/step - loss: 0.6781 - acc: 0.5000 - val_loss: 0.6516 - val_acc: 0.5000\n",
      "Epoch 7/50\n",
      "1000/1000 [==============================] - 0s 202us/step - loss: 0.6309 - acc: 0.5000 - val_loss: 0.6075 - val_acc: 0.5000\n",
      "Epoch 8/50\n",
      "1000/1000 [==============================] - 0s 173us/step - loss: 0.5920 - acc: 0.5000 - val_loss: 0.5694 - val_acc: 0.5000\n",
      "Epoch 9/50\n",
      "1000/1000 [==============================] - 0s 190us/step - loss: 0.5581 - acc: 0.5000 - val_loss: 0.5385 - val_acc: 0.5000\n",
      "Epoch 10/50\n",
      "1000/1000 [==============================] - 0s 217us/step - loss: 0.5307 - acc: 0.5000 - val_loss: 0.5142 - val_acc: 0.5000\n",
      "Epoch 11/50\n",
      "1000/1000 [==============================] - 0s 177us/step - loss: 0.5080 - acc: 0.5250 - val_loss: 0.4940 - val_acc: 0.5510\n",
      "Epoch 12/50\n",
      "1000/1000 [==============================] - 0s 183us/step - loss: 0.4895 - acc: 0.5590 - val_loss: 0.4761 - val_acc: 0.5910\n",
      "Epoch 13/50\n",
      "1000/1000 [==============================] - 0s 199us/step - loss: 0.4722 - acc: 0.5760 - val_loss: 0.4600 - val_acc: 0.6160\n",
      "Epoch 14/50\n",
      "1000/1000 [==============================] - 0s 186us/step - loss: 0.4575 - acc: 0.6860 - val_loss: 0.4465 - val_acc: 0.8910\n",
      "Epoch 15/50\n",
      "1000/1000 [==============================] - 0s 182us/step - loss: 0.4445 - acc: 0.8870 - val_loss: 0.4340 - val_acc: 0.9250\n",
      "Epoch 16/50\n",
      "1000/1000 [==============================] - 0s 179us/step - loss: 0.4322 - acc: 0.9130 - val_loss: 0.4220 - val_acc: 0.9330\n",
      "Epoch 17/50\n",
      "1000/1000 [==============================] - 0s 191us/step - loss: 0.4204 - acc: 0.9500 - val_loss: 0.4105 - val_acc: 0.9770\n",
      "Epoch 18/50\n",
      "1000/1000 [==============================] - 0s 175us/step - loss: 0.4090 - acc: 0.9720 - val_loss: 0.3991 - val_acc: 0.9800\n",
      "Epoch 19/50\n",
      "1000/1000 [==============================] - 0s 172us/step - loss: 0.3977 - acc: 0.9770 - val_loss: 0.3881 - val_acc: 0.9860\n",
      "Epoch 20/50\n",
      "1000/1000 [==============================] - 0s 171us/step - loss: 0.3868 - acc: 0.9780 - val_loss: 0.3772 - val_acc: 0.9870\n",
      "Epoch 21/50\n",
      "1000/1000 [==============================] - 0s 175us/step - loss: 0.3760 - acc: 0.9860 - val_loss: 0.3665 - val_acc: 0.9950\n",
      "Epoch 22/50\n",
      "1000/1000 [==============================] - 0s 181us/step - loss: 0.3653 - acc: 0.9900 - val_loss: 0.3559 - val_acc: 0.9980\n",
      "Epoch 23/50\n",
      "1000/1000 [==============================] - 0s 186us/step - loss: 0.3547 - acc: 0.9930 - val_loss: 0.3455 - val_acc: 0.9980\n",
      "Epoch 24/50\n",
      "1000/1000 [==============================] - 0s 208us/step - loss: 0.3444 - acc: 0.9960 - val_loss: 0.3353 - val_acc: 0.9980\n",
      "Epoch 25/50\n",
      "1000/1000 [==============================] - 0s 189us/step - loss: 0.3343 - acc: 0.9980 - val_loss: 0.3254 - val_acc: 0.9980\n",
      "Epoch 26/50\n",
      "1000/1000 [==============================] - 0s 216us/step - loss: 0.3243 - acc: 0.9980 - val_loss: 0.3157 - val_acc: 1.0000\n",
      "Epoch 27/50\n",
      "1000/1000 [==============================] - 0s 178us/step - loss: 0.3146 - acc: 0.9990 - val_loss: 0.3060 - val_acc: 1.0000\n",
      "Epoch 28/50\n",
      "1000/1000 [==============================] - 0s 210us/step - loss: 0.3050 - acc: 0.9990 - val_loss: 0.2966 - val_acc: 1.0000\n",
      "Epoch 29/50\n",
      "1000/1000 [==============================] - 0s 188us/step - loss: 0.2956 - acc: 0.9990 - val_loss: 0.2873 - val_acc: 1.0000\n",
      "Epoch 30/50\n",
      "1000/1000 [==============================] - 0s 188us/step - loss: 0.2864 - acc: 0.9990 - val_loss: 0.2782 - val_acc: 1.0000\n",
      "Epoch 31/50\n",
      "1000/1000 [==============================] - 0s 176us/step - loss: 0.2774 - acc: 0.9990 - val_loss: 0.2696 - val_acc: 1.0000\n",
      "Epoch 32/50\n",
      "1000/1000 [==============================] - 0s 180us/step - loss: 0.2690 - acc: 0.9990 - val_loss: 0.2613 - val_acc: 1.0000\n",
      "Epoch 33/50\n",
      "1000/1000 [==============================] - 0s 181us/step - loss: 0.2608 - acc: 0.9990 - val_loss: 0.2533 - val_acc: 1.0000\n",
      "Epoch 34/50\n",
      "1000/1000 [==============================] - 0s 180us/step - loss: 0.2528 - acc: 0.9990 - val_loss: 0.2455 - val_acc: 1.0000\n",
      "Epoch 35/50\n",
      "1000/1000 [==============================] - 0s 184us/step - loss: 0.2451 - acc: 1.0000 - val_loss: 0.2379 - val_acc: 1.0000\n",
      "Epoch 36/50\n",
      "1000/1000 [==============================] - 0s 188us/step - loss: 0.2375 - acc: 1.0000 - val_loss: 0.2306 - val_acc: 1.0000\n",
      "Epoch 37/50\n",
      "1000/1000 [==============================] - 0s 180us/step - loss: 0.2302 - acc: 1.0000 - val_loss: 0.2234 - val_acc: 1.0000\n",
      "Epoch 38/50\n",
      "1000/1000 [==============================] - 0s 180us/step - loss: 0.2231 - acc: 1.0000 - val_loss: 0.2164 - val_acc: 1.0000\n",
      "Epoch 39/50\n",
      "1000/1000 [==============================] - 0s 182us/step - loss: 0.2160 - acc: 1.0000 - val_loss: 0.2097 - val_acc: 1.0000\n",
      "Epoch 40/50\n",
      "1000/1000 [==============================] - 0s 173us/step - loss: 0.2093 - acc: 1.0000 - val_loss: 0.2031 - val_acc: 1.0000\n",
      "Epoch 41/50\n",
      "1000/1000 [==============================] - 0s 178us/step - loss: 0.2027 - acc: 1.0000 - val_loss: 0.1967 - val_acc: 1.0000\n",
      "Epoch 42/50\n",
      "1000/1000 [==============================] - 0s 178us/step - loss: 0.1963 - acc: 1.0000 - val_loss: 0.1905 - val_acc: 1.0000\n",
      "Epoch 43/50\n",
      "1000/1000 [==============================] - 0s 182us/step - loss: 0.1901 - acc: 1.0000 - val_loss: 0.1846 - val_acc: 1.0000\n",
      "Epoch 44/50\n",
      "1000/1000 [==============================] - 0s 188us/step - loss: 0.1841 - acc: 1.0000 - val_loss: 0.1787 - val_acc: 1.0000\n",
      "Epoch 45/50\n",
      "1000/1000 [==============================] - 0s 172us/step - loss: 0.1783 - acc: 1.0000 - val_loss: 0.1731 - val_acc: 1.0000\n",
      "Epoch 46/50\n",
      "1000/1000 [==============================] - 0s 177us/step - loss: 0.1727 - acc: 1.0000 - val_loss: 0.1676 - val_acc: 1.0000\n",
      "Epoch 47/50\n",
      "1000/1000 [==============================] - 0s 182us/step - loss: 0.1672 - acc: 1.0000 - val_loss: 0.1624 - val_acc: 1.0000\n",
      "Epoch 48/50\n",
      "1000/1000 [==============================] - 0s 171us/step - loss: 0.1620 - acc: 1.0000 - val_loss: 0.1573 - val_acc: 1.0000\n",
      "Epoch 49/50\n",
      "1000/1000 [==============================] - 0s 174us/step - loss: 0.1569 - acc: 1.0000 - val_loss: 0.1524 - val_acc: 1.0000\n",
      "Epoch 50/50\n",
      "1000/1000 [==============================] - 0s 188us/step - loss: 0.1520 - acc: 1.0000 - val_loss: 0.1476 - val_acc: 1.0000\n"
     ]
    }
   ],
   "source": [
    "# train the model\n",
    "history=model.fit(X_train, Y_train,\n",
    "                  validation_data=(X_val,Y_val),\n",
    "                  batch_size=64, \n",
    "                  epochs=50,\n",
    "                  verbose=1,\n",
    "                  shuffle=True) "
   ]
  },
  {
   "cell_type": "code",
   "execution_count": 18,
   "metadata": {
    "colab": {
     "base_uri": "https://localhost:8080/",
     "height": 427
    },
    "colab_type": "code",
    "id": "fK_AAAoiQtlc",
    "outputId": "15200b71-9b91-483a-efb8-0c29a2126dcd"
   },
   "outputs": [
    {
     "data": {
      "text/plain": [
       "<matplotlib.legend.Legend at 0x7f00e973ab00>"
      ]
     },
     "execution_count": 18,
     "metadata": {},
     "output_type": "execute_result"
    },
    {
     "data": {
      "image/png": "[encoded data removed]",
      "text/plain": [
       "<Figure size 1200x400 with 2 Axes>"
      ]
     },
     "metadata": {},
     "output_type": "display_data"
    }
   ],
   "source": [
    "# plot the development of the accuracy and loss during training\n",
    "plt.figure(figsize=(12,4))\n",
    "plt.subplot(1,2,(1))\n",
    "plt.plot(history.history['acc'],linestyle='-.')\n",
    "plt.plot(history.history['val_acc'])\n",
    "plt.title('model accuracy')\n",
    "plt.ylabel('accuracy')\n",
    "plt.xlabel('epoch')\n",
    "plt.legend(['train', 'valid'], loc='lower right')\n",
    "plt.subplot(1,2,(2))\n",
    "plt.plot(history.history['loss'],linestyle='-.')\n",
    "plt.plot(history.history['val_loss'])\n",
    "plt.title('model loss')\n",
    "plt.ylabel('loss')\n",
    "plt.xlabel('epoch')\n",
    "plt.legend(['train', 'valid'], loc='upper right')"
   ]
  },
  {
   "cell_type": "markdown",
   "metadata": {
    "colab_type": "text",
    "id": "uOwR3Esbw8eN"
   },
   "source": [
    "### Visualize the learned kernel and experiment with the code\n",
    "\n",
    "You see that the CNN performs very good at this task (100% accuracy). We can check which pattern is recognized by the learned kernel and see if you think that this is helpful to distinguish between images with horizontal and vertical edges. \n"
   ]
  },
  {
   "cell_type": "code",
   "execution_count": 19,
   "metadata": {
    "colab": {
     "base_uri": "https://localhost:8080/",
     "height": 451
    },
    "colab_type": "code",
    "id": "pl1yuAddVRnE",
    "outputId": "cf7c49e6-0881-4480-f037-c8f79dfe10f9"
   },
   "outputs": [
    {
     "data": {
      "text/plain": [
       "<matplotlib.image.AxesImage at 0x7f00e966d0f0>"
      ]
     },
     "execution_count": 19,
     "metadata": {},
     "output_type": "execute_result"
    },
    {
     "data": {
      "image/png": "[encoded data removed]",
      "text/plain": [
       "<Figure size 640x480 with 1 Axes>"
      ]
     },
     "metadata": {},
     "output_type": "display_data"
    }
   ],
   "source": [
    "# get the leared weights and display them as image\n",
    "conv_filter=model.get_weights()[0]\n",
    "conv_filter.shape\n",
    "conv_filter=np.squeeze(conv_filter, axis=2)\n",
    "plt.imshow(conv_filter[:,:,0],\"gray\")"
   ]
  },
  {
   "cell_type": "markdown",
   "metadata": {
    "colab_type": "text",
    "id": "U4gnnlAPp_Q2"
   },
   "source": [
    "#### Repeat the training and exerpiment with the kernelsite and activation function.<img src=\"https://raw.githubusercontent.com/tensorchiefs/dl_book/master/imgs/paper-pen.png\" width=\"60\" align=\"left\" />\n",
    "*Exercise: Repeat the compiling and training for several times and check if the CNN always learns the same kernel.  \n",
    "You can experiment with the code and check what happens if you use another kernel size, activation function (relu instead of linear ) or pooling method AveragePooling instead of MaxPooling.  \n",
    "Try to make a prediction before doing the experiment.*\n",
    "\n",
    "\n"
   ]
  },
  {
   "cell_type": "code",
   "execution_count": 0,
   "metadata": {
    "colab": {},
    "colab_type": "code",
    "id": "fRlCUwpVoy69"
   },
   "outputs": [],
   "source": []
  }
 ],
 "metadata": {
  "accelerator": "GPU",
  "colab": {
   "collapsed_sections": [],
   "name": "nb_ch02_03.ipynb",
   "provenance": [],
   "version": "0.3.2"
  },
  "kernelspec": {
   "display_name": "Python 3",
   "language": "python",
   "name": "python3"
  },
  "language_info": {
   "codemirror_mode": {
    "name": "ipython",
    "version": 3
   },
   "file_extension": ".py",
   "mimetype": "text/x-python",
   "name": "python",
   "nbconvert_exporter": "python",
   "pygments_lexer": "ipython3",
   "version": "3.7.3"
  }
 },
 "nbformat": 4,
 "nbformat_minor": 1
}
