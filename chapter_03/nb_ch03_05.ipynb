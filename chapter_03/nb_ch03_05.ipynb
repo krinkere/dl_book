{
 "cells": [
  {
   "cell_type": "markdown",
   "metadata": {
    "colab_type": "text",
    "id": "O2sP8Kwe7L9Z"
   },
   "source": [
    "\n",
    "## Fitting a linear regression model with Keras\n",
    "\n",
    "**Goal:** In this notebook you will see how to use Keras to fit the parameters (slope and intercept) of a simple linear regression model via gradient descent (GD). \n",
    "\n",
    "**Usage:** The idea of the notebook is that you try to understand the provided code by running it, checking the output and playing with it by slightly changing the code and rerunning it. \n",
    "\n",
    "**Dataset:** You work again with the systolic blood pressure and age data of 33 American women, which is generated and visualized in the upper part of the notebook. \n",
    "\n",
    "**Content:**\n",
    "\n",
    "* fit a linear model via the sklearn machine learning library of python to get the fitted values of the intercept and slope as reference. \n",
    "\n",
    "* use the keras library to fit the parameter of the simple linear model via GD with the objective to minimize the MSE loss. \n",
    "    * define a sequential keras model\n",
    "    * define a loss and the optimizer\n",
    "    * get a keras summary of the model\n",
    "    * fit the model parameter via GD and check the current values of the estimated model parameters and the loss after each step  \n",
    "    * verify that the estimated parameter values converge to the values which you got from the sklearn fit.  \n",
    "\n",
    "\n",
    "\n",
    "[open in colab](https://colab.research.google.com/github/tensorchiefs/dl_book/blob/master/chapter_03/nb_ch03_05.ipynb)\n"
   ]
  },
  {
   "cell_type": "markdown",
   "metadata": {
    "colab_type": "text",
    "id": "eZgmEud8ydoz"
   },
   "source": [
    "#### Imports"
   ]
  },
  {
   "cell_type": "code",
   "execution_count": 1,
   "metadata": {
    "colab": {},
    "colab_type": "code",
    "id": "2Ns6420jRmbQ"
   },
   "outputs": [],
   "source": [
    "import numpy as np\n",
    "import matplotlib.pyplot as plt\n",
    "%matplotlib inline\n",
    "plt.style.use('default')\n",
    "from sklearn.linear_model import LinearRegression"
   ]
  },
  {
   "cell_type": "markdown",
   "metadata": {
    "colab_type": "text",
    "id": "p3c9bh7zMVhP"
   },
   "source": [
    "Here we read in the systolic blood pressure and the age of the 33 American women in our dataset. Then we use the sklearn library to find the optimal values for the slope a and the intercept b."
   ]
  },
  {
   "cell_type": "code",
   "execution_count": 2,
   "metadata": {
    "colab": {},
    "colab_type": "code",
    "id": "RvINwW1vydo9"
   },
   "outputs": [],
   "source": [
    "# Blood Pressure data\n",
    "x = [22, 41, 52, 23, 41, 54, 24, 46, 56, 27, 47, 57, 28, 48, 58,  9, \n",
    "     49, 59, 30, 49, 63, 32, 50, 67, 33, 51, 71, 35, 51, 77, 40, 51, 81]\n",
    "y = [131, 139, 128, 128, 171, 105, 116, 137, 145, 106, 111, 141, 114, \n",
    "     115, 153, 123, 133, 157, 117, 128, 155, 122, 183,\n",
    "     176,  99, 130, 172, 121, 133, 178, 147, 144, 217] \n",
    "x = np.asarray(x, np.float32) \n",
    "y = np.asarray(y, np.float32)"
   ]
  },
  {
   "cell_type": "code",
   "execution_count": 3,
   "metadata": {
    "colab": {
     "base_uri": "https://localhost:8080/",
     "height": 490
    },
    "colab_type": "code",
    "id": "OurbybEoydpB",
    "outputId": "afd26d20-0e67-4cea-8a5a-963229b4a6a8"
   },
   "outputs": [
    {
     "data": {
      "image/png": "[encoded data removed]",
      "text/plain": [
       "<Figure size 432x288 with 1 Axes>"
      ]
     },
     "metadata": {
      "needs_background": "light"
     },
     "output_type": "display_data"
    },
    {
     "name": "stdout",
     "output_type": "stream",
     "text": [
      "intercept =  87.67143 solpe =  1.1050216\n"
     ]
    }
   ],
   "source": [
    "plt.scatter(x=x,y=y)\n",
    "plt.title(\"blood pressure vs age\")\n",
    "plt.xlabel(\"x (age)\")\n",
    "plt.ylabel(\"y (sbp)\")\n",
    "\n",
    "model = LinearRegression()\n",
    "res = model.fit(x.reshape((len(x),1)), y)\n",
    "predictions = model.predict(x.reshape((len(x),1)))\n",
    "plt.plot(x, predictions)\n",
    "plt.show()\n",
    "print(\"intercept = \",res.intercept_,\"solpe = \", res.coef_[0],)"
   ]
  },
  {
   "cell_type": "markdown",
   "metadata": {
    "colab_type": "text",
    "id": "VDLGQiOALZV2"
   },
   "source": [
    "\n",
    "## Keras\n",
    "\n",
    "Now we want to use the Keras library to find the optimal parameters for the linear regression problem. We load all the functions that we need to build a fully connected network with two inputs and one output and a linear activation function.\n"
   ]
  },
  {
   "cell_type": "code",
   "execution_count": 4,
   "metadata": {
    "colab": {
     "base_uri": "https://localhost:8080/",
     "height": 35
    },
    "colab_type": "code",
    "id": "8xELydr6Af5f",
    "outputId": "f4cf354a-5506-4cd8-c401-1586b944197e"
   },
   "outputs": [
    {
     "name": "stderr",
     "output_type": "stream",
     "text": [
      "Using TensorFlow backend.\n"
     ]
    }
   ],
   "source": [
    "import keras\n",
    "from keras.models import Sequential\n",
    "from keras.layers import Dense, Activation\n",
    "from keras import optimizers"
   ]
  },
  {
   "cell_type": "markdown",
   "metadata": {
    "colab_type": "text",
    "id": "K5nhCw-1zdNl"
   },
   "source": [
    "Here we define our starting values for the slope a=0 and the intercept b=139 (139 is the mean of the blood pressure and slope a=0 implies that the model predicts the mean for each age). Then we build the model, we have 1 output and will use a linar activation function, for the optimization we want to use stochastic gradient descent and our loss is the mean squared error, just like in the notebooks before."
   ]
  },
  {
   "cell_type": "code",
   "execution_count": 5,
   "metadata": {
    "colab": {},
    "colab_type": "code",
    "id": "2BSRMZF948LS"
   },
   "outputs": [],
   "source": [
    "a=np.array(0,dtype=\"float32\",ndmin=2)\n",
    "b=np.array(139,dtype=\"float32\",ndmin=1)"
   ]
  },
  {
   "cell_type": "code",
   "execution_count": 6,
   "metadata": {
    "colab": {
     "base_uri": "https://localhost:8080/",
     "height": 89
    },
    "colab_type": "code",
    "id": "DatMTnI-7gey",
    "outputId": "6cf48b9a-53d6-4f21-bb4e-e2537090ce0b"
   },
   "outputs": [
    {
     "name": "stderr",
     "output_type": "stream",
     "text": [
      "WARNING: Logging before flag parsing goes to stderr.\n",
      "W0818 00:26:31.046460 140480164738880 deprecation_wrapper.py:119] From /root/miniconda3/lib/python3.7/site-packages/keras/backend/tensorflow_backend.py:74: The name tf.get_default_graph is deprecated. Please use tf.compat.v1.get_default_graph instead.\n",
      "\n",
      "W0818 00:26:31.062788 140480164738880 deprecation_wrapper.py:119] From /root/miniconda3/lib/python3.7/site-packages/keras/backend/tensorflow_backend.py:517: The name tf.placeholder is deprecated. Please use tf.compat.v1.placeholder instead.\n",
      "\n",
      "W0818 00:26:31.066376 140480164738880 deprecation_wrapper.py:119] From /root/miniconda3/lib/python3.7/site-packages/keras/backend/tensorflow_backend.py:4138: The name tf.random_uniform is deprecated. Please use tf.random.uniform instead.\n",
      "\n",
      "W0818 00:26:31.095066 140480164738880 deprecation_wrapper.py:119] From /root/miniconda3/lib/python3.7/site-packages/keras/optimizers.py:790: The name tf.train.Optimizer is deprecated. Please use tf.compat.v1.train.Optimizer instead.\n",
      "\n"
     ]
    }
   ],
   "source": [
    "model = Sequential()\n",
    "model.add(Dense(1,input_dim=1))\n",
    "model.add(Activation('linear'))\n",
    "\n",
    "opt = optimizers.SGD(lr=0.0004)\n",
    "\n",
    "model.compile(loss='mean_squared_error',\n",
    "              optimizer=opt)\n"
   ]
  },
  {
   "cell_type": "markdown",
   "metadata": {
    "colab_type": "text",
    "id": "SH519ABG0Qqr"
   },
   "source": [
    "In the model summary we see that we have 2 trainable parameters, the slope a and the intercept b.\n"
   ]
  },
  {
   "cell_type": "code",
   "execution_count": 7,
   "metadata": {
    "colab": {
     "base_uri": "https://localhost:8080/",
     "height": 208
    },
    "colab_type": "code",
    "id": "6Bt1v76Q7gub",
    "outputId": "b484ab0c-512e-4ded-d87c-86681b6f56eb"
   },
   "outputs": [
    {
     "name": "stdout",
     "output_type": "stream",
     "text": [
      "_________________________________________________________________\n",
      "Layer (type)                 Output Shape              Param #   \n",
      "=================================================================\n",
      "dense_1 (Dense)              (None, 1)                 2         \n",
      "_________________________________________________________________\n",
      "activation_1 (Activation)    (None, 1)                 0         \n",
      "=================================================================\n",
      "Total params: 2\n",
      "Trainable params: 2\n",
      "Non-trainable params: 0\n",
      "_________________________________________________________________\n"
     ]
    }
   ],
   "source": [
    "model.summary()"
   ]
  },
  {
   "cell_type": "markdown",
   "metadata": {
    "colab_type": "text",
    "id": "aipmVYVZ0fGj"
   },
   "source": [
    "Let's set the trainable parameters to our starting values a=0 and b=139"
   ]
  },
  {
   "cell_type": "code",
   "execution_count": 8,
   "metadata": {
    "colab": {},
    "colab_type": "code",
    "id": "P9kC1uCq7g8q"
   },
   "outputs": [
    {
     "name": "stderr",
     "output_type": "stream",
     "text": [
      "W0818 00:26:37.502039 140480164738880 deprecation_wrapper.py:119] From /root/miniconda3/lib/python3.7/site-packages/keras/backend/tensorflow_backend.py:174: The name tf.get_default_session is deprecated. Please use tf.compat.v1.get_default_session instead.\n",
      "\n",
      "W0818 00:26:37.502898 140480164738880 deprecation_wrapper.py:119] From /root/miniconda3/lib/python3.7/site-packages/keras/backend/tensorflow_backend.py:181: The name tf.ConfigProto is deprecated. Please use tf.compat.v1.ConfigProto instead.\n",
      "\n"
     ]
    }
   ],
   "source": [
    "model.set_weights([a,b])"
   ]
  },
  {
   "cell_type": "code",
   "execution_count": 9,
   "metadata": {
    "colab": {
     "base_uri": "https://localhost:8080/",
     "height": 35
    },
    "colab_type": "code",
    "id": "iXcp3QXs7oOz",
    "outputId": "c28cdc1f-6232-402e-be67-f2ddf4e7f8b5"
   },
   "outputs": [
    {
     "name": "stdout",
     "output_type": "stream",
     "text": [
      "slope= 0.0 intercept= 139.0\n"
     ]
    }
   ],
   "source": [
    "a,b=model.get_weights()\n",
    "print(\"slope=\",a[0][0],\"intercept=\",b[0])"
   ]
  },
  {
   "cell_type": "markdown",
   "metadata": {
    "colab_type": "text",
    "id": "KnxQPx0e0-eA"
   },
   "source": [
    "If we do a forwad pass we can calculate the loss (mse) which we want to minimize by changing a and b"
   ]
  },
  {
   "cell_type": "code",
   "execution_count": 10,
   "metadata": {
    "colab": {
     "base_uri": "https://localhost:8080/",
     "height": 52
    },
    "colab_type": "code",
    "id": "tCeISjN1MPdy",
    "outputId": "7b8dbddd-cb71-4d82-f80f-0dc8facb7a78"
   },
   "outputs": [
    {
     "name": "stdout",
     "output_type": "stream",
     "text": [
      "33/33 [==============================] - 0s 1ms/step\n"
     ]
    },
    {
     "data": {
      "text/plain": [
       "673.4545454545455"
      ]
     },
     "execution_count": 10,
     "metadata": {},
     "output_type": "execute_result"
    }
   ],
   "source": [
    "model.evaluate(x,y)\n",
    "#loss for the start values a=0 and b=139"
   ]
  },
  {
   "cell_type": "markdown",
   "metadata": {
    "colab_type": "text",
    "id": "ZHvID-px1mlA"
   },
   "source": [
    "Now, let's use gradient descent to opimize the slope a and the intercept b. The start values are a=0 and b=139, our learning rate is 0.0004 and we do 80000 updatesteps with all 33 observations."
   ]
  },
  {
   "cell_type": "code",
   "execution_count": 11,
   "metadata": {
    "colab": {
     "base_uri": "https://localhost:8080/",
     "height": 367
    },
    "colab_type": "code",
    "id": "s3Lr40BN7tzS",
    "outputId": "7cde4d4e-b5d2-4b49-b49c-1ccc0c04509d"
   },
   "outputs": [
    {
     "name": "stdout",
     "output_type": "stream",
     "text": [
      "Epoch: 0 slope= 0.2212364 intercept= 138.99971 MSE= 668.19196\n",
      "Epoch: 5000 slope= 0.4700916 intercept= 120.607834 MSE= 469.55124\n",
      "Epoch: 10000 slope= 0.69758165 intercept= 108.807 MSE= 398.75995\n",
      "Epoch: 15000 slope= 0.84356356 intercept= 101.23432 MSE= 369.6088\n",
      "Epoch: 20000 slope= 0.9372411 intercept= 96.374886 MSE= 357.6047\n",
      "Epoch: 25000 slope= 0.9973542 intercept= 93.25658 MSE= 352.66162\n",
      "Epoch: 30000 slope= 1.0359303 intercept= 91.25547 MSE= 350.626\n",
      "Epoch: 35000 slope= 1.0606828 intercept= 89.97145 MSE= 349.7878\n",
      "Epoch: 40000 slope= 1.0765642 intercept= 89.14762 MSE= 349.44263\n",
      "Epoch: 45000 slope= 1.0867525 intercept= 88.61913 MSE= 349.30054\n",
      "Epoch: 50000 slope= 1.093287 intercept= 88.28015 MSE= 349.242\n",
      "Epoch: 55000 slope= 1.0975145 intercept= 88.060844 MSE= 349.21768\n",
      "Epoch: 60000 slope= 1.1001548 intercept= 87.923904 MSE= 349.20792\n",
      "Epoch: 65000 slope= 1.101867 intercept= 87.835075 MSE= 349.20383\n",
      "Epoch: 70000 slope= 1.1029377 intercept= 87.77953 MSE= 349.2022\n",
      "Epoch: 75000 slope= 1.1036731 intercept= 87.74139 MSE= 349.20135\n"
     ]
    }
   ],
   "source": [
    "for i in range(0,80000):\n",
    "    model.fit(x=x,y=y,batch_size=33,\n",
    "                    epochs=1,\n",
    "                    verbose = 0)\n",
    "    a,b=model.get_weights()\n",
    "    if i % 5000==0:\n",
    "        mse=np.mean(np.square(model.predict(x).reshape(len(x),)-y))\n",
    "        print(\"Epoch:\",i,\"slope=\",a[0][0],\"intercept=\",b[0],\"MSE=\",mse)"
   ]
  },
  {
   "cell_type": "markdown",
   "metadata": {
    "colab_type": "text",
    "id": "3EK10k3819Iy"
   },
   "source": [
    "Let's look at the final values for the slope a, the intercept b and the mse loss. We know form the closed formula solution that:\n",
    "\n",
    "\n",
    "\n",
    "1.   optimal value for a: 1.1050216\n",
    "2.   optimal value for b: 87.67143\n",
    "3.   minimal loss: 349.200787168560\n",
    "\n",
    "After 80000 update steps we are very close to the optimal values"
   ]
  },
  {
   "cell_type": "code",
   "execution_count": 12,
   "metadata": {
    "colab": {
     "base_uri": "https://localhost:8080/",
     "height": 35
    },
    "colab_type": "code",
    "id": "Qw1FcSxgMnJ1",
    "outputId": "9818a630-79ac-40ab-8803-79724cab4177"
   },
   "outputs": [
    {
     "name": "stdout",
     "output_type": "stream",
     "text": [
      "Epoch: 79999 slope= 1.1041992 intercept= 87.7141 MSE= 349.20135\n"
     ]
    }
   ],
   "source": [
    "print(\"Epoch:\",i,\"slope=\",a[0][0],\"intercept=\",b[0],\"MSE=\",mse)"
   ]
  },
  {
   "cell_type": "code",
   "execution_count": 0,
   "metadata": {
    "colab": {},
    "colab_type": "code",
    "id": "kIqZAYqDZoZW"
   },
   "outputs": [],
   "source": []
  }
 ],
 "metadata": {
  "colab": {
   "collapsed_sections": [],
   "name": "nb_05.ipynb",
   "provenance": [],
   "version": "0.3.2"
  },
  "kernelspec": {
   "display_name": "Python 3",
   "language": "python",
   "name": "python3"
  },
  "language_info": {
   "codemirror_mode": {
    "name": "ipython",
    "version": 3
   },
   "file_extension": ".py",
   "mimetype": "text/x-python",
   "name": "python",
   "nbconvert_exporter": "python",
   "pygments_lexer": "ipython3",
   "version": "3.7.3"
  }
 },
 "nbformat": 4,
 "nbformat_minor": 1
}
